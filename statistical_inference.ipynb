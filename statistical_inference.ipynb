{
 "cells": [
  {
   "cell_type": "code",
   "execution_count": 105,
   "id": "variable-cooking",
   "metadata": {},
   "outputs": [
    {
     "data": {
      "text/html": [
       "<div>\n",
       "<style scoped>\n",
       "    .dataframe tbody tr th:only-of-type {\n",
       "        vertical-align: middle;\n",
       "    }\n",
       "\n",
       "    .dataframe tbody tr th {\n",
       "        vertical-align: top;\n",
       "    }\n",
       "\n",
       "    .dataframe thead th {\n",
       "        text-align: right;\n",
       "    }\n",
       "</style>\n",
       "<table border=\"1\" class=\"dataframe\">\n",
       "  <thead>\n",
       "    <tr style=\"text-align: right;\">\n",
       "      <th></th>\n",
       "      <th>Numero muestra</th>\n",
       "      <th>Inicial</th>\n",
       "      <th>Primer_cambio</th>\n",
       "      <th>Segundo_cambio</th>\n",
       "    </tr>\n",
       "  </thead>\n",
       "  <tbody>\n",
       "    <tr>\n",
       "      <th>0</th>\n",
       "      <td>1</td>\n",
       "      <td>74</td>\n",
       "      <td>73</td>\n",
       "      <td>74</td>\n",
       "    </tr>\n",
       "    <tr>\n",
       "      <th>1</th>\n",
       "      <td>2</td>\n",
       "      <td>72</td>\n",
       "      <td>89</td>\n",
       "      <td>73</td>\n",
       "    </tr>\n",
       "    <tr>\n",
       "      <th>2</th>\n",
       "      <td>3</td>\n",
       "      <td>73</td>\n",
       "      <td>73</td>\n",
       "      <td>73</td>\n",
       "    </tr>\n",
       "    <tr>\n",
       "      <th>3</th>\n",
       "      <td>4</td>\n",
       "      <td>72</td>\n",
       "      <td>77</td>\n",
       "      <td>77</td>\n",
       "    </tr>\n",
       "    <tr>\n",
       "      <th>4</th>\n",
       "      <td>5</td>\n",
       "      <td>73</td>\n",
       "      <td>81</td>\n",
       "      <td>74</td>\n",
       "    </tr>\n",
       "    <tr>\n",
       "      <th>...</th>\n",
       "      <td>...</td>\n",
       "      <td>...</td>\n",
       "      <td>...</td>\n",
       "      <td>...</td>\n",
       "    </tr>\n",
       "    <tr>\n",
       "      <th>85</th>\n",
       "      <td>86</td>\n",
       "      <td>72</td>\n",
       "      <td>88</td>\n",
       "      <td>72</td>\n",
       "    </tr>\n",
       "    <tr>\n",
       "      <th>86</th>\n",
       "      <td>87</td>\n",
       "      <td>73</td>\n",
       "      <td>78</td>\n",
       "      <td>79</td>\n",
       "    </tr>\n",
       "    <tr>\n",
       "      <th>87</th>\n",
       "      <td>88</td>\n",
       "      <td>74</td>\n",
       "      <td>48</td>\n",
       "      <td>78</td>\n",
       "    </tr>\n",
       "    <tr>\n",
       "      <th>88</th>\n",
       "      <td>89</td>\n",
       "      <td>72</td>\n",
       "      <td>77</td>\n",
       "      <td>72</td>\n",
       "    </tr>\n",
       "    <tr>\n",
       "      <th>89</th>\n",
       "      <td>90</td>\n",
       "      <td>72</td>\n",
       "      <td>99</td>\n",
       "      <td>75</td>\n",
       "    </tr>\n",
       "  </tbody>\n",
       "</table>\n",
       "<p>90 rows × 4 columns</p>\n",
       "</div>"
      ],
      "text/plain": [
       "    Numero muestra  Inicial  Primer_cambio  Segundo_cambio\n",
       "0                1       74             73              74\n",
       "1                2       72             89              73\n",
       "2                3       73             73              73\n",
       "3                4       72             77              77\n",
       "4                5       73             81              74\n",
       "..             ...      ...            ...             ...\n",
       "85              86       72             88              72\n",
       "86              87       73             78              79\n",
       "87              88       74             48              78\n",
       "88              89       72             77              72\n",
       "89              90       72             99              75\n",
       "\n",
       "[90 rows x 4 columns]"
      ]
     },
     "execution_count": 105,
     "metadata": {},
     "output_type": "execute_result"
    }
   ],
   "source": [
    "import numpy as np\n",
    "import pandas as pd\n",
    "import matplotlib.pyplot as plt\n",
    "import math\n",
    "from scipy.stats import norm\n",
    "\n",
    "df = pd.read_excel(\"data\\Conjunto_datos_tarea2.xlsx\")\n",
    "\n",
    "df"
   ]
  },
  {
   "cell_type": "code",
   "execution_count": 106,
   "id": "approved-defensive",
   "metadata": {},
   "outputs": [],
   "source": [
    "muestras = df[\"Numero muestra\"].to_numpy()\n",
    "\n",
    "# Antes que el Colega aumenta rendimiento\n",
    "data1 = df[\"Inicial\"].to_numpy()\n",
    "# Colega\n",
    "data2 = df[\"Primer_cambio\"].to_numpy()\n",
    "# Nuestra configuración\n",
    "data3 = df[\"Segundo_cambio\"].to_numpy()\n"
   ]
  },
  {
   "cell_type": "markdown",
   "id": "voluntary-competition",
   "metadata": {},
   "source": [
    "# Media muestral"
   ]
  },
  {
   "cell_type": "code",
   "execution_count": 107,
   "id": "varying-withdrawal",
   "metadata": {},
   "outputs": [
    {
     "name": "stdout",
     "output_type": "stream",
     "text": [
      "\n",
      "Promedio de configuración Inicial:  72.83333333333333\n",
      "Promedio de configuración Primer_cambio:  74.13333333333334\n",
      "Promedio de configuración Segundo_cambio:  75.28888888888889\n"
     ]
    }
   ],
   "source": [
    "mean1 = np.mean(data1)\n",
    "mean2 = np.mean(data2)\n",
    "mean3 = np.mean(data3)\n",
    "\n",
    "print(\"\\nPromedio de configuración Inicial: \", mean1)\n",
    "print(\"Promedio de configuración Primer_cambio: \", mean2)\n",
    "print(\"Promedio de configuración Segundo_cambio: \", mean3)"
   ]
  },
  {
   "cell_type": "markdown",
   "id": "comprehensive-stanley",
   "metadata": {},
   "source": [
    "# Desviación estándar muestral\n",
    " La varianza muestral posee N grados de libertad (más adelante se usará como estimador la varianza muestral con N-1 grados de libertad por se un estimador insesgado de la varianza poblacional)\n",
    "`numpy.var(a, axis=None, dtype=None, out=None, ddof=0, keepdims=<no value>, *, where=<no value>)`  \n",
    "Calcula la varianza a lo largo de los ejes especificados.    \n",
    "\n",
    "Paramátro ddof int, opcional  \n",
    "“Delta grados de libertad”: el divisor usado en el calculo es N - ddof, donde N representa el número de elementos. Por defaulto ddof es cero."
   ]
  },
  {
   "cell_type": "code",
   "execution_count": 108,
   "id": "ideal-twelve",
   "metadata": {},
   "outputs": [
    {
     "name": "stdout",
     "output_type": "stream",
     "text": [
      "Varianza en configuracón Inicial:  1.0722222222222222\n",
      "Varianza en configuración de Primer_cambio:  85.20444444444443\n",
      "Varianza en configuración de Segundo_cambio:  4.427654320987655\n"
     ]
    }
   ],
   "source": [
    "var1 = np.var(data1, ddof = 0)\n",
    "var2 = np.var(data2, ddof = 0)\n",
    "var3 = np.var(data3, ddof = 0)\n",
    "\n",
    "print(\"Varianza en configuracón Inicial: \", var1)\n",
    "print(\"Varianza en configuración de Primer_cambio: \", var2)\n",
    "print(\"Varianza en configuración de Segundo_cambio: \", var3)"
   ]
  },
  {
   "cell_type": "markdown",
   "id": "determined-performer",
   "metadata": {},
   "source": [
    "# Estimación de parámetro de desviación estándar utilizando el método de máxima verosimilitud (MLE)\n",
    "### Distribuciones de cada una de las muestras."
   ]
  },
  {
   "cell_type": "code",
   "execution_count": 109,
   "id": "fourth-large",
   "metadata": {
    "scrolled": true
   },
   "outputs": [
    {
     "data": {
      "image/png": "[encoded data removed]",
      "text/plain": [
       "<Figure size 432x288 with 1 Axes>"
      ]
     },
     "metadata": {},
     "output_type": "display_data"
    }
   ],
   "source": [
    "#MLE Configuracion inicial\n",
    "Dist1 = norm(loc = mean1, scale = math.sqrt(np.var(data1, ddof = 1)))\n",
    "x = np.linspace(Dist1.ppf(0.001),\n",
    "                Dist1.ppf(0.999), 100)\n",
    "plt.hist(data1, density = True, label = \"Muestra\")\n",
    "plt.title(\"Configuración inicial\")\n",
    "plt.xlabel(\"Porcentaje de rendimiento (%)\")\n",
    "plt.ylabel(\"Frecuencia relativa\")\n",
    "plt.plot(x, Dist1.pdf(x), \"r-\", label=\"PDF teorico\")\n",
    "plt.legend()\n",
    "plt.show()"
   ]
  },
  {
   "cell_type": "code",
   "execution_count": 110,
   "id": "unique-affiliation",
   "metadata": {},
   "outputs": [
    {
     "data": {
      "image/png": "[encoded data removed]",
      "text/plain": [
       "<Figure size 432x288 with 1 Axes>"
      ]
     },
     "metadata": {},
     "output_type": "display_data"
    }
   ],
   "source": [
    "#MLE Primer_cambio\n",
    "Dist2 = norm(loc = mean2, scale = math.sqrt(np.var(data2, ddof = 1)))\n",
    "x = np.linspace(Dist2.ppf(0.001),\n",
    "                Dist2.ppf(0.999), 100)\n",
    "plt.hist(data2, density = True, label = \"Muestra\")\n",
    "plt.title(\"Configuración Primer_cambio\")\n",
    "plt.xlabel(\"Porcentaje de rendimiento (%)\")\n",
    "plt.ylabel(\"Frecuencia relativa\")\n",
    "plt.plot(x, Dist2.pdf(x), \"r-\", label=\"PDF teorico\")\n",
    "plt.legend()\n",
    "plt.show()"
   ]
  },
  {
   "cell_type": "code",
   "execution_count": 111,
   "id": "comparative-criticism",
   "metadata": {},
   "outputs": [
    {
     "data": {
      "image/png": "[encoded data removed]",
      "text/plain": [
       "<Figure size 432x288 with 1 Axes>"
      ]
     },
     "metadata": {},
     "output_type": "display_data"
    }
   ],
   "source": [
    "#MLE Segundo_cambio\n",
    "Dist3 = norm(loc = mean3, scale = math.sqrt(np.var(data3, ddof = 1)))\n",
    "x = np.linspace(Dist3.ppf(0.001),\n",
    "                Dist3.ppf(0.999), 100)\n",
    "plt.hist(data3, density = True, label = \"Muestra\")\n",
    "plt.title(\"Configuración Segundo_cambio\")\n",
    "plt.xlabel(\"Porcentaje de rendimiento (%)\")\n",
    "plt.ylabel(\"Frecuencia relativa\")\n",
    "plt.plot(x, Dist3.pdf(x), \"r-\", label=\"PDF teorico\")\n",
    "plt.legend()\n",
    "plt.show()"
   ]
  },
  {
   "cell_type": "markdown",
   "id": "ordinary-slide",
   "metadata": {},
   "source": [
    "### MLE con método empírico\n",
    "Se supone que todas las configuraciones general el comportamiento de una distribución normal. Además se supone que la media poblacional es conocida e igual a la media muestral.  \n",
    "La función\n",
    "`scipy.stats.norm(*args, **kwds) = <scipy.stats._continuous_distns.norm_gen object>`  \n",
    "Es una variable aleatoria continua de una distribución normal.  \n",
    "La palabra clave loc especifica la media. La palabra clave scale especifica la desviación estándar.  \n",
    "Por otro lado, el método fit(data) estima parámetros para datos genéricos. El método hereda de `scipy.stats.rv_continuous.fit`  \n",
    "\n",
    "`rv_continuous.fit(self, data, *args, **kwds)`  \n",
    "El parámtro data se refiere al conjunto de datos disponible.\n",
    "Retorna MLEs para parámetro de forma (si aplica), media, and desvación estándar a partir de los datos.  \n",
    "Para cualquier argumento no provisto con estimaciones inicial, `self._fitstart(data)` es llamado para generarlo.  \n",
    "Uno puede contener algunos parámtros fijos para valores específico. La palabra clave floc se usa para fijar la media (esto se usa porque la media poblacional será igual a la media muestral)  \n",
    "El método devuelve una tubla con MLE para cualquier parámetro de forma (si corresponde), seguidos de la media y la desviación estándar (para el caso de la distribución normal, no se devuelven parámtros de forma así que es seguro que la desviación estándar es el segundo valor devuelto por el método)."
   ]
  },
  {
   "cell_type": "code",
   "execution_count": 112,
   "id": "functional-andorra",
   "metadata": {},
   "outputs": [
    {
     "name": "stdout",
     "output_type": "stream",
     "text": [
      "\n",
      "Estimación MLE de la varianza y desviación estándar poblacional con método de cálculo empírico/práctico\n",
      "\n",
      "Estimación para la desvación estándar en la configuración Inicial:  1.0354816378006044\n",
      "Estimación Varianza para configuración Inicial:  1.0722222222222222\n",
      "\n",
      "Estimación de la desvación en la configuración Primer_cambio:  9.230625355004094\n",
      "Estimación de la Varianza en la configuración Primer_cambio:  85.20444444444445\n",
      "\n",
      "Estimación para desvación estándar en la configuración Segundo_cambio:  2.104199211336145\n",
      "Estimación de Varianza para configuración Segundo_cambio:  4.427654320987655\n"
     ]
    }
   ],
   "source": [
    "print(\"\\nEstimación MLE de la varianza y desviación estándar poblacional con método de cálculo empírico/práctico\")\n",
    "\n",
    "loc1, scale1 = norm.fit(data1, floc = mean1)\n",
    "print(\"\\nEstimación para la desvación estándar en la configuración Inicial: \", scale1)\n",
    "print(\"Estimación Varianza para configuración Inicial: \", math.pow(scale1, 2))\n",
    "\n",
    "loc2, scale2 = norm.fit(data2, floc = mean2)\n",
    "print(\"\\nEstimación de la desvación en la configuración Primer_cambio: \", scale2)\n",
    "print(\"Estimación de la Varianza en la configuración Primer_cambio: \", math.pow(scale2, 2))\n",
    "\n",
    "loc3, scale3 = norm.fit(data3, floc = mean3)\n",
    "print(\"\\nEstimación para desvación estándar en la configuración Segundo_cambio: \", scale3)\n",
    "print(\"Estimación de Varianza para configuración Segundo_cambio: \", math.pow(scale3, 2))"
   ]
  },
  {
   "cell_type": "markdown",
   "id": "developing-phrase",
   "metadata": {},
   "source": [
    "### MLE con método analítico\n",
    "Se aproxima la estimación usando logaritmo natural.  \n",
    "\\begin{equation}\n",
    "\\frac{d\\ln{\\mathcal{L}\\left(\\sigma \\right)}}{d\\sigma} = \\frac{\\mathrm{d}  \\ln\\left (\\prod_{i=1}^{n} \\frac{1}{\\sigma\\sqrt{2{\\pi}}} e^{-\\frac{\\left ( x_{i} - \\mu  \\right)^2}{2{\\sigma^2}}}\\right )}{\\mathrm{d} \\sigma }\n",
    "\\end{equation}\n",
    "\n",
    "Si $\\frac{d\\ln{\\mathcal{L}\\left(\\sigma \\right)}}{d\\sigma} = 0$, entonces\n",
    "\n",
    "\\begin{equation}\n",
    "\\frac{\\mathrm{d} \\ln\\left [\\left (\\frac{1}{\\sigma \\sqrt{2\\pi }} \\right )^{n}e^{\\sum_{i=1}^{n}-\\frac{\\left ( x_{i} - \\mu  \\right )^2}{2\\sigma ^2}} \\right ]}{\\mathrm{d} \\sigma } = 0\n",
    "\\end{equation}\n",
    "\n",
    "\\begin{equation}\n",
    "\\Rightarrow \\frac{\\mathrm{d} \\left [n\\ln \\left ( \\frac{1}{\\sigma \\sqrt{2\\pi }} \\right )+\\sum_{i=1}^{n}-\\frac{\\left ( x_{i} - \\mu  \\right )^2}{2\\sigma ^2}\\right ]}{\\mathrm{d} \\sigma } = 0\n",
    "\\end{equation}\n",
    "\n",
    "\\begin{equation}\n",
    "\\Rightarrow -\\frac{n}{\\sigma }+\\frac{1}{\\sigma ^3} \\left[ \\sum_{i=1}^{n} \\left ( x_{i} - \\mu  \\right )^2\\right ]=0\n",
    "\\end{equation}\n",
    "\n",
    "\\begin{equation}\n",
    "\\Rightarrow \\hat{\\sigma}=\\sqrt{\\frac{1}{n}\\sum_{i=1}^{n}\\left ( x_{i} - \\mu  \\right )^2}\n",
    "\\end{equation}\n",
    "\n",
    "La estimación de la varianza poblacional, evidentemente, sería $\\hat{\\sigma}^2$"
   ]
  },
  {
   "cell_type": "code",
   "execution_count": 113,
   "id": "fossil-jewelry",
   "metadata": {},
   "outputs": [
    {
     "name": "stdout",
     "output_type": "stream",
     "text": [
      "\n",
      "Estimación MLE de varianza y desviación estándar poblacional por método analítico/teórico\n",
      "\n",
      "Estimación de desviación estandar para configuración Inicial:  1.0354816378006044\n",
      "Estimación de varianza para configuración Inicial:  1.0722222222222222\n",
      "\n",
      "Estimación de desviación estandar para configuración Primer_cambio:  9.230625355004094\n",
      "Estimación de varianza para configuración Primer_cambio:  85.20444444444445\n",
      "\n",
      "Estimación de desviación estandar para configuración Segundo_cambio:  2.104199211336145\n",
      "Estimación de varianza para configuración Segundo_cambio:  4.427654320987655\n"
     ]
    }
   ],
   "source": [
    "# MLE analitico de deviacion estandard.\n",
    "print(\"\\nEstimación MLE de varianza y desviación estándar poblacional por método analítico/teórico\")\n",
    "std1MLE = np.std(data1)\n",
    "std2MLE = np.std(data2)\n",
    "std3MLE = np.std(data3)\n",
    "\n",
    "print(\"\\nEstimación de desviación estandar para configuración Inicial: \", std1MLE)\n",
    "print(\"Estimación de varianza para configuración Inicial: \", math.pow(std1MLE, 2))\n",
    "\n",
    "print(\"\\nEstimación de desviación estandar para configuración Primer_cambio: \", std2MLE)\n",
    "print(\"Estimación de varianza para configuración Primer_cambio: \", math.pow(std2MLE, 2))\n",
    "\n",
    "print(\"\\nEstimación de desviación estandar para configuración Segundo_cambio: \", std3MLE)\n",
    "print(\"Estimación de varianza para configuración Segundo_cambio: \", math.pow(std3MLE, 2))"
   ]
  },
  {
   "cell_type": "markdown",
   "id": "technological-developer",
   "metadata": {},
   "source": [
    "# Estimación insesgado de la varianza y desviación estándar\n",
    "Teorema 2: Sean $X_{1}, X_{2}, . . . , X_{n}$ una muestra aleatoria de una distribución con media $\\mu$ y varianza $\\sigma^2$. Entonces el estimador\\newline\n",
    "\\begin{equation}\n",
    "    \\hat{\\sigma}^2 = S^2 = \\sum_{i=1}^{n} \\frac{\\left(X_{i} - \\mu\\right)^2}{n - 1}\n",
    "\\end{equation}"
   ]
  },
  {
   "cell_type": "code",
   "execution_count": 114,
   "id": "large-trinity",
   "metadata": {},
   "outputs": [
    {
     "name": "stdout",
     "output_type": "stream",
     "text": [
      "\n",
      "Estimación insesgada de la varianza poblacional\n",
      "Varianza en configuracón Inicial:  1.0842696629213484\n",
      "Varianza en configuración de Primer_cambio:  86.16179775280898\n",
      "Varianza en configuración de Segundo_cambio:  4.477403245942572\n"
     ]
    }
   ],
   "source": [
    "print(\"\\nEstimación insesgada de la varianza poblacional\")\n",
    "var1 = np.var(data1, ddof = 1)\n",
    "var2 = np.var(data2, ddof = 1)\n",
    "var3 = np.var(data3, ddof = 1)\n",
    "\n",
    "print(\"Varianza en configuracón Inicial: \", var1)\n",
    "print(\"Varianza en configuración de Primer_cambio: \", var2)\n",
    "print(\"Varianza en configuración de Segundo_cambio: \", var3)"
   ]
  },
  {
   "cell_type": "markdown",
   "id": "documentary-desperate",
   "metadata": {},
   "source": [
    "Las varianzas de las tres configuraciones no son iguales."
   ]
  },
  {
   "cell_type": "markdown",
   "id": "casual-orange",
   "metadata": {},
   "source": [
    "# Comparación de varianzas.\n",
    "Teorema: Se $X_{1},...,X_{m}$ una muestra aleatoria de distribución normal con varianza $ \\sigma_{1}^{2} $, sea $Y_{1}, . . . , Y_{n}$ otra muestra aleatoria (independiente de las $X_{i}$) de una distribución normal con varianza $\\sigma_{2}^{2}$, y sean $S_{1}^2$ y $S_{2}^{2}$ las dos varianzas muestrales. Entonces la variable aleatoria\n",
    "\\begin{equation*}\n",
    "F = \\frac{S_{1}^2/\\sigma_{1}^{2}}{S_{2}^2/\\sigma_{2}^{2}}\n",
    "\\end{equation*}\n",
    "tiene una distribución F con $v_{1} = m - 1$ y $v_{2} = n - 1$ grados de libertad.  \n",
    "  \n",
    "Prueba F para igualdad de varianzas  \n",
    "Hipótesis nula: $H_{0}: \\sigma_{1}^2 = \\sigma_{2}^2$  \n",
    "Hipótesis alternativa: $H_{1}: \\sigma_{1}^2 \\neq \\sigma_{2}^2$  \n",
    "Valor estadístico de prueba: $f = \\frac{S_{1}^2}{S_{2}^2}$  \n",
    "  \n",
    "Región de rechazo para una prueba de nivel $\\alpha$  \n",
    "$f \\geqslant F_{\\alpha/2,m-1,n-1} \\lor f \\leqslant F_{1-\\alpha/2,m-1,n-1}$"
   ]
  },
  {
   "cell_type": "markdown",
   "id": "opening-blair",
   "metadata": {},
   "source": [
    "`scipy.stats.f(*args, **kwds) = <scipy.stats._continuous_distns.f_gen object>`  \n",
    "Una variable aleatoria continua F. F toma dfn y dfd como parámetros de forma, donde dfn son los grados de libertad del numerador y dfd son los grados de libertad del denominador.  \n",
    "  \n",
    "Por otro lado  \n",
    "`rv_continuous.ppf(self, q, *args, **kwds)`\n",
    "Función de punto porcentual. Recibe como parámetri q la probabilidad de la cola inferior. Retorna el cuantil correspondiente a la cola inferior de probabilidad q."
   ]
  },
  {
   "cell_type": "code",
   "execution_count": null,
   "id": "stone-delicious",
   "metadata": {},
   "outputs": [],
   "source": [
    "f1 = var1/var2\n",
    "f2 = var1/var3\n",
    "f3 = var2/var3\n",
    "\n",
    "alpha = 0.05\n",
    "fdistribution = st.f(dfn = len(data1)-1, dfd = len(data2)-1) #Sirva para toda comparación pues las muestra son de igual tamaño\n",
    "f_critical1 = fdistribution.ppf(alpha/2)\n",
    "f_critical2 = fdistribution.ppf(1 - alpha/2)\n",
    "\n",
    "print(\"\\n\")\n",
    "if ((f1 > f_critical1) or (f1 < f_critical2)):\n",
    "    print(\"var1 no igual a var2\")\n",
    "else:\n",
    "    print(\"var1 igual a var2\")\n",
    "\n",
    "if ((f2 > f_critical1) or (f2 < f_critical2)):\n",
    "    print(\"var1 no igual a var3\")\n",
    "else:\n",
    "    print(\"var1 igual a var2\")\n",
    "\n",
    "if ((f3 > f_critical1) or (f3 < f_critical2)):\n",
    "    print(\"var2 no igual a var3\")\n",
    "else:\n",
    "    print(\"var2 igual a var3\")"
   ]
  },
  {
   "cell_type": "markdown",
   "id": "vanilla-cattle",
   "metadata": {},
   "source": [
    "# Prueba de Hipótesis\n",
    "\n",
    "## Hipótesis:\n",
    "¿Son todas las configuraciones para la maquina aceptables (mayores o iguales al 70%)?\n",
    "\n",
    "$H_0 : \\mu \\leq 70$\n",
    "\n",
    "$H_1 : \\mu > 70$"
   ]
  },
  {
   "cell_type": "code",
   "execution_count": null,
   "id": "decreased-conservative",
   "metadata": {},
   "outputs": [],
   "source": [
    "import scipy\n",
    "aceptance = 70\n",
    "\n",
    "t_1 = scipy.stats.ttest_1samp(data1, aceptance, alternative='greater')\n",
    "t_2 = scipy.stats.ttest_1samp(data2, aceptance, alternative='greater')\n",
    "t_3 = scipy.stats.ttest_1samp(data3, aceptance, alternative='greater')\n",
    "\n",
    "print(t_1)\n",
    "print(t_2)\n",
    "print(t_3)"
   ]
  },
  {
   "cell_type": "code",
   "execution_count": null,
   "id": "medical-macro",
   "metadata": {},
   "outputs": [],
   "source": [
    "t_1to2 = scipy.stats.ttest_ind(data1,data2,alternative='less')\n",
    "t_1to2"
   ]
  },
  {
   "cell_type": "code",
   "execution_count": null,
   "id": "fitting-recipient",
   "metadata": {
    "scrolled": true
   },
   "outputs": [],
   "source": [
    "t_2to3 = scipy.stats.ttest_ind(data3,data2,alternative='less')\n",
    "t_2to3"
   ]
  },
  {
   "cell_type": "code",
   "execution_count": null,
   "id": "sapphire-career",
   "metadata": {},
   "outputs": [],
   "source": [
    "t_1to3 = scipy.stats.ttest_ind(data1,data3,alternative='less')\n",
    "t_1to3"
   ]
  },
  {
   "cell_type": "code",
   "execution_count": null,
   "id": "given-czech",
   "metadata": {},
   "outputs": [],
   "source": [
    "confidence = 0.01\n",
    "\n",
    "print(t_1.pvalue < confidence)\n",
    "print(t_2.pvalue < confidence)\n",
    "print(t_3.pvalue < confidence)\n",
    "\n",
    "print(t_1to2.pvalue < confidence)\n",
    "print(t_2to3.pvalue < confidence)\n",
    "print(t_1to3.pvalue < confidence)"
   ]
  },
  {
   "cell_type": "markdown",
   "id": "spiritual-denmark",
   "metadata": {},
   "source": [
    "Donde se encuentran involucrados grupo 2 de datos se rechaza la hipotesis"
   ]
  },
  {
   "cell_type": "code",
   "execution_count": null,
   "id": "fourth-greek",
   "metadata": {},
   "outputs": [],
   "source": []
  },
  {
   "cell_type": "code",
   "execution_count": null,
   "id": "consistent-ottawa",
   "metadata": {},
   "outputs": [],
   "source": [
    "#Todas las configuraciones\n",
    "Dist1 = norm(loc = mean1, scale = math.sqrt(np.var(data1, ddof = 1)))\n",
    "x = np.linspace(Dist1.ppf(0.001),\n",
    "                Dist1.ppf(0.999), 100)\n",
    "Dist2 = norm(loc = mean2, scale = math.sqrt(np.var(data2, ddof = 1)))\n",
    "x = np.linspace(Dist2.ppf(0.001),\n",
    "                Dist2.ppf(0.999), 100)\n",
    "Dist3 = norm(loc = mean3, scale = math.sqrt(np.var(data3, ddof = 1)))\n",
    "x = np.linspace(Dist3.ppf(0.001),\n",
    "                Dist3.ppf(0.999), 100)\n",
    "\n",
    "plt.title(\"Configuración inicial\")\n",
    "plt.xlabel(\"Porcentaje de rendimiento (%)\")\n",
    "plt.ylabel(\"Frecuencia relativa\")\n",
    "plt.plot(x, Dist1.pdf(x), \"r-\", label=\"Configuración Inicial\")\n",
    "plt.plot(x, Dist2.pdf(x), \"b-\", label=\"Primer Cambio\")\n",
    "plt.plot(x, Dist3.pdf(x), \"g-\", label=\"Segundo Cambio\")\n",
    "plt.legend()\n",
    "plt.show()"
   ]
  },
  {
   "cell_type": "code",
   "execution_count": null,
   "id": "objective-upper",
   "metadata": {},
   "outputs": [],
   "source": []
  },
  {
   "cell_type": "code",
   "execution_count": null,
   "id": "therapeutic-ratio",
   "metadata": {},
   "outputs": [],
   "source": []
  }
 ],
 "metadata": {
  "kernelspec": {
   "display_name": "Python 3",
   "language": "python",
   "name": "python3"
  },
  "language_info": {
   "codemirror_mode": {
    "name": "ipython",
    "version": 3
   },
   "file_extension": ".py",
   "mimetype": "text/x-python",
   "name": "python",
   "nbconvert_exporter": "python",
   "pygments_lexer": "ipython3",
   "version": "3.9.1"
  }
 },
 "nbformat": 4,
 "nbformat_minor": 5
}

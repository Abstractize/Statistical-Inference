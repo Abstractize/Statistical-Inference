{
 "cells": [
  {
   "cell_type": "code",
   "execution_count": 1,
   "id": "variable-cooking",
   "metadata": {},
   "outputs": [
    {
     "name": "stdout",
     "output_type": "stream",
     "text": [
      "    Numero muestra  Inicial  Primer_cambio  Segundo_cambio\n",
      "0                1       74             73              74\n",
      "1                2       72             89              73\n",
      "2                3       73             73              73\n",
      "3                4       72             77              77\n",
      "4                5       73             81              74\n",
      "..             ...      ...            ...             ...\n",
      "85              86       72             88              72\n",
      "86              87       73             78              79\n",
      "87              88       74             48              78\n",
      "88              89       72             77              72\n",
      "89              90       72             99              75\n",
      "\n",
      "[90 rows x 4 columns]\n"
     ]
    }
   ],
   "source": [
    "import pandas as pd\n",
    "\n",
    "df = pd.read_excel('data/Conjunto_datos_tarea2.xlsx')\n",
    "\n",
    "print(df)"
   ]
  },
  {
   "cell_type": "markdown",
   "id": "first-compound",
   "metadata": {},
   "source": [
    "# ¿Poseen las tres configuraciones la misma varianza? ¿En qué afecta al resultado de comparaci ´on entre configuraciones posibles diferencias en las varianzas de las distribuciones?  \n",
    "La varianza muestral posee N-1 grados de libertad, por lo que se iguala a 1 el parámetro ddof (este valor viene por default) en el la función para el cálculo de varianzas en pandas (en numpy el valor por defecto de ddof es 0).  \n",
    "\n",
    "`DataFrame.var(axis=None, skipna=None, level=None, ddof=1, numeric_only=None, **kwargs)`  \n",
    "Return unbiased variance over requested axis.  \n",
    "Normalized by N-1 by default. This can be changed using the ddof argument"
   ]
  },
  {
   "cell_type": "code",
   "execution_count": 2,
   "id": "coated-plymouth",
   "metadata": {},
   "outputs": [
    {
     "name": "stdout",
     "output_type": "stream",
     "text": [
      "Variance in Inicial sampling:  1.0842696629213484\n",
      "Variance in Primer_cambio sampling 86.16179775280898\n",
      "Variance in Segundo_cambio sampling 4.477403245942572\n"
     ]
    }
   ],
   "source": [
    "VarI = df[\"Inicial\"].var()\n",
    "Var1 = df[\"Primer_cambio\"].var()\n",
    "Var2 = df[\"Segundo_cambio\"].var()\n",
    "\n",
    "print(\"Variance in Inicial sampling: \", VarI)\n",
    "print(\"Variance in Primer_cambio sampling\", Var1)\n",
    "print(\"Variance in Segundo_cambio sampling\", Var2)"
   ]
  },
  {
   "cell_type": "code",
   "execution_count": null,
   "id": "earlier-tongue",
   "metadata": {},
   "outputs": [],
   "source": []
  }
 ],
 "metadata": {
  "kernelspec": {
   "display_name": "Python 3",
   "language": "python",
   "name": "python3"
  },
  "language_info": {
   "codemirror_mode": {
    "name": "ipython",
    "version": 3
   },
   "file_extension": ".py",
   "mimetype": "text/x-python",
   "name": "python",
   "nbconvert_exporter": "python",
   "pygments_lexer": "ipython3",
   "version": "3.9.2"
  }
 },
 "nbformat": 4,
 "nbformat_minor": 5
}

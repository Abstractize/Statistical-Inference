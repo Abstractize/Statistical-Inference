{
 "cells": [
  {
   "cell_type": "code",
   "execution_count": 2,
   "id": "variable-cooking",
   "metadata": {},
   "outputs": [
    {
     "name": "stdout",
     "output_type": "stream",
     "text": [
      "    Numero muestra  Inicial  Primer_cambio  Segundo_cambio\n",
      "0                1       74             73              74\n",
      "1                2       72             89              73\n",
      "2                3       73             73              73\n",
      "3                4       72             77              77\n",
      "4                5       73             81              74\n",
      "..             ...      ...            ...             ...\n",
      "85              86       72             88              72\n",
      "86              87       73             78              79\n",
      "87              88       74             48              78\n",
      "88              89       72             77              72\n",
      "89              90       72             99              75\n",
      "\n",
      "[90 rows x 4 columns]\n"
     ]
    }
   ],
   "source": [
    "import pandas as pd\n",
    "import numpy as np\n",
    "import math\n",
    "from scipy.stats import norm\n",
    "\n",
    "df = pd.read_excel('data/Conjunto_datos_tarea2.xlsx')\n",
    "\n",
    "print(df)"
   ]
  },
  {
   "cell_type": "code",
   "execution_count": 3,
   "id": "approved-defensive",
   "metadata": {},
   "outputs": [],
   "source": [
    "D1 = df[\"Inicial\"].to_numpy()\n",
    "D2 = df[\"Primer_cambio\"].to_numpy()\n",
    "D3 = df[\"Segundo_cambio\"].to_numpy()\n"
   ]
  },
  {
   "cell_type": "markdown",
   "id": "voluntary-competition",
   "metadata": {},
   "source": [
    "# Media muestral"
   ]
  },
  {
   "cell_type": "code",
   "execution_count": 4,
   "id": "varying-withdrawal",
   "metadata": {},
   "outputs": [
    {
     "name": "stdout",
     "output_type": "stream",
     "text": [
      "\n",
      "Promedio de configuración Inicial:  73.0\n",
      "Promedio de configuración Primer_cambio:  75.0\n",
      "Promedio de configuración Segundo_cambio:  75.0\n"
     ]
    }
   ],
   "source": [
    "Med1 = np.median(D1)\n",
    "Med2 = np.median(D2)\n",
    "Med3 = np.median(D3)\n",
    "\n",
    "print(\"\\nPromedio de configuración Inicial: \", Med1)\n",
    "print(\"Promedio de configuración Primer_cambio: \", Med2)\n",
    "print(\"Promedio de configuración Segundo_cambio: \", Med3)"
   ]
  },
  {
   "cell_type": "markdown",
   "id": "determined-performer",
   "metadata": {},
   "source": [
    "# Estimación de parámetro de desviación estándar utilizando el método de máxima verosimilitud (MLE)\n",
    "### Distribuciones de cada una de las muestras.\n",
    "![Figure_1](data\\Figure_1.png)\n",
    "![Figure_2](data\\Figure_2.png)\n",
    "![Figure_3](data\\Figure_3.png)"
   ]
  },
  {
   "cell_type": "markdown",
   "id": "ordinary-slide",
   "metadata": {},
   "source": [
    "### MLE con método empírico\n",
    "Se supone que todas las configuraciones general el comportamiento de una distribución normal. Además se supone que la media poblacional es conocida e igual a la media muestral.  \n",
    "La función\n",
    "`scipy.stats.norm(*args, **kwds) = <scipy.stats._continuous_distns.norm_gen object>`  \n",
    "Es una variable aleatoria continua de una distribución normal.  \n",
    "La palabra clave loc especifica la media. La palabra clave scale especifica la desviación estándar.  \n",
    "Por otro lado, el método fit(data) estima parámetros para datos genéricos. El método hereda de `scipy.stats.rv_continuous.fit`  \n",
    "\n",
    "`rv_continuous.fit(self, data, *args, **kwds)`  \n",
    "El parámtro data se refiere al conjunto de datos disponible.\n",
    "Retorna MLEs para parámetro de forma (si aplica), media, and desvación estándar a partir de los datos.  \n",
    "Para cualquier argumento no provisto con estimaciones inicial, `self._fitstart(data)` es llamado para generarlo.  \n",
    "Uno puede contener algunos parámtros fijos para valores específico. La palabra clave floc se usa para fijar la media (esto se usa porque la media poblacional será igual a la media muestral)  \n",
    "El método devuelve una tubla con MLE para cualquier parámetro de forma (si corresponde), seguidos de la media y la desviación estándar (para el caso de la distribución normal, no se devuelven parámtros de forma así que es seguro que la desviación estándar es el segundo valor devuelto por el método)."
   ]
  },
  {
   "cell_type": "code",
   "execution_count": 8,
   "id": "functional-andorra",
   "metadata": {},
   "outputs": [
    {
     "name": "stdout",
     "output_type": "stream",
     "text": [
      "\n",
      "Media poblacional para configuración Inicial:  73.0\n",
      "Estimación con MLE para la desvación estándar poblacional en la configuración Inicial:  1.0488088481701516\n",
      "Estimación con MLE de Varianza poblacional para configuración Inicial:  1.1\n",
      "\n",
      "Media poblacional para configuración Primer_cambio:  75.0\n",
      "Estimación con MLE para la desvación estándar poblacional en la configuración Primer_cambio:  9.271221901969316\n",
      "Estimación con MLE de Varianza poblacional para configuración Primer_cambio:  85.95555555555553\n",
      "\n",
      "Media poblacional para configuración Segundo_cambio:  75.0\n",
      "Estimación con MLE para desvación estándar poblacional en la configuración Segundo_cambio:  2.123937642943199\n",
      "Estimación con MLE de Varianza poblacional para configuración Segundo_cambio:  4.511111111111111\n"
     ]
    }
   ],
   "source": [
    "loc1, scale1 = norm.fit(D1, floc = Med1)\n",
    "print(\"\\nMedia poblacional para configuración Inicial: \", loc1)\n",
    "print(\"Estimación con MLE para la desvación estándar poblacional en la configuración Inicial: \", scale1)\n",
    "print(\"Estimación con MLE de Varianza poblacional para configuración Inicial: \", math.pow(scale1, 2))\n",
    "\n",
    "loc2, scale2 = norm.fit(D2, floc = Med2)\n",
    "print(\"\\nMedia poblacional para configuración Primer_cambio: \", loc2)\n",
    "print(\"Estimación con MLE para la desvación estándar poblacional en la configuración Primer_cambio: \", scale2)\n",
    "print(\"Estimación con MLE de Varianza poblacional para configuración Primer_cambio: \", math.pow(scale2, 2))\n",
    "\n",
    "loc3, scale3 = norm.fit(D3, floc = Med3)\n",
    "print(\"\\nMedia poblacional para configuración Segundo_cambio: \", loc3)\n",
    "print(\"Estimación con MLE para desvación estándar poblacional en la configuración Segundo_cambio: \", scale3)\n",
    "print(\"Estimación con MLE de Varianza poblacional para configuración Segundo_cambio: \", math.pow(scale3, 2))"
   ]
  },
  {
   "cell_type": "markdown",
   "id": "developing-phrase",
   "metadata": {},
   "source": [
    "### MLE con método analítico\n",
    "Se aproxima la estimación usando logaritmo natural.  \n",
    "\\begin{equation}\n",
    "\\frac{d\\ln{\\mathcal{L}\\left(\\sigma \\right)}}{d\\sigma} = \\frac{\\mathrm{d}  \\ln\\left (\\prod_{i=1}^{n} \\frac{1}{\\sigma\\sqrt{2{\\pi}}} e^{-\\frac{\\left ( x_{i} - \\mu  \\right)^2}{2{\\sigma^2}}}\\right )}{\\mathrm{d} \\sigma }\n",
    "\\end{equation}\n",
    "\n",
    "Si $\\frac{d\\ln{\\mathcal{L}\\left(\\sigma \\right)}}{d\\sigma} = 0$, entonces\n",
    "\n",
    "\\begin{equation}\n",
    "\\frac{\\mathrm{d} \\ln\\left [\\left (\\frac{1}{\\sigma \\sqrt{2\\pi }} \\right )^{n}e^{\\sum_{i=1}^{n}-\\frac{\\left ( x_{i} - \\mu  \\right )^2}{2\\sigma ^2}} \\right ]}{\\mathrm{d} \\sigma } = 0\n",
    "\\end{equation}\n",
    "\n",
    "\\begin{equation}\n",
    "\\Rightarrow \\frac{\\mathrm{d} \\left [n\\ln \\left ( \\frac{1}{\\sigma \\sqrt{2\\pi }} \\right )+\\sum_{i=1}^{n}-\\frac{\\left ( x_{i} - \\mu  \\right )^2}{2\\sigma ^2}\\right ]}{\\mathrm{d} \\sigma } = 0\n",
    "\\end{equation}\n",
    "\n",
    "\\begin{equation}\n",
    "\\Rightarrow -\\frac{n}{\\sigma }+\\frac{1}{\\sigma ^3} \\left[ \\sum_{i=1}^{n} \\left ( x_{i} - \\mu  \\right )^2\\right ]=0\n",
    "\\end{equation}\n",
    "\n",
    "\\begin{equation}\n",
    "\\Rightarrow \\hat{\\sigma}=\\sqrt{\\frac{1}{n}\\sum_{i=1}^{n}\\left ( x_{i} - \\mu  \\right )^2}\n",
    "\\end{equation}\n",
    "\n",
    "La estimación de la varianza poblacional, evidentemente, sería $\\hat{\\sigma}^2$"
   ]
  },
  {
   "cell_type": "code",
   "execution_count": 9,
   "id": "fossil-jewelry",
   "metadata": {},
   "outputs": [
    {
     "name": "stdout",
     "output_type": "stream",
     "text": [
      "\n",
      "MLE de desviación estandar por método analítico de configuración Inicial:  1.0354816378006044\n",
      "MLE de varianza por método analítico de configuración Inicial:  1.0722222222222222\n",
      "\n",
      "MLE de desviación estandar por método analítico de configuración Primer_cambio:  9.230625355004094\n",
      "MLE de varianza por método analítico de configuración Primer_cambio:  85.20444444444445\n",
      "\n",
      "MLE de desviación estandar por método analítico de configuración Segundo_cambio:  2.104199211336145\n",
      "MLE de varianza por método analítico de configuración Segundo_cambio:  4.427654320987655\n"
     ]
    }
   ],
   "source": [
    "# MLE analitico de deviacion estandard.\n",
    "Std1MLE = np.std(D1)\n",
    "Std2MLE = np.std(D2)\n",
    "Std3MLE = np.std(D3)\n",
    "\n",
    "print(\"\\nMLE de desviación estandar por método analítico de configuración Inicial: \", Std1MLE)\n",
    "print(\"MLE de varianza por método analítico de configuración Inicial: \", math.pow(Std1MLE, 2))\n",
    "\n",
    "print(\"\\nMLE de desviación estandar por método analítico de configuración Primer_cambio: \", Std2MLE)\n",
    "print(\"MLE de varianza por método analítico de configuración Primer_cambio: \", math.pow(Std2MLE, 2))\n",
    "\n",
    "print(\"\\nMLE de desviación estandar por método analítico de configuración Segundo_cambio: \", Std3MLE)\n",
    "print(\"MLE de varianza por método analítico de configuración Segundo_cambio: \", math.pow(Std3MLE, 2))"
   ]
  },
  {
   "cell_type": "markdown",
   "id": "first-compound",
   "metadata": {},
   "source": [
    "# ¿Poseen las tres configuraciones la misma varianza? ¿En qué afecta al resultado de comparación entre configuraciones posibles diferencias en las varianzas de las distribuciones?  \n",
    "La varianza muestral posee N-1 grados de libertad, por lo que se iguala a 1 el parámetro ddof. En la función para el cálculo de varianzas en numpy el valor por defecto de ddof es 0 (en el método de cálculo de varianzas en pandas, el valor de ddof es 1).  \n",
    "\n",
    "`numpy.var(a, axis=None, dtype=None, out=None, ddof=0, keepdims=<no value>, *, where=<no value>)`  \n",
    "Calcula la varianza a lo largo de los ejes especificados.    \n",
    "\n",
    "Paramátrod ddof int, opcional  \n",
    "“Delta grados de libertad”: el divisor usado en el calculo es N - ddof, donde N representa el número de elementos. Por defaulto ddof es cero."
   ]
  },
  {
   "cell_type": "code",
   "execution_count": 7,
   "id": "coated-plymouth",
   "metadata": {},
   "outputs": [
    {
     "name": "stdout",
     "output_type": "stream",
     "text": [
      "Varianza en configuracón Inicial:  1.0842696629213484\n",
      "Varianza en configuración de Primer_cambio:  86.16179775280898\n",
      "Varianza en configuración de Segundo_cambio:  4.477403245942572\n"
     ]
    }
   ],
   "source": [
    "Var1 = np.var(D1, ddof = 1)\n",
    "Var2 = np.var(D2, ddof = 1)\n",
    "Var3 = np.var(D3, ddof = 1)\n",
    "\n",
    "print(\"Varianza en configuracón Inicial: \", Var1)\n",
    "print(\"Varianza en configuración de Primer_cambio: \", Var2)\n",
    "print(\"Varianza en configuración de Segundo_cambio: \", Var3)"
   ]
  },
  {
   "cell_type": "markdown",
   "id": "documentary-desperate",
   "metadata": {},
   "source": [
    "Las varianzas de las tres configuraciones no son iguales."
   ]
  },
  {
   "cell_type": "code",
   "execution_count": null,
   "id": "laden-paintball",
   "metadata": {},
   "outputs": [],
   "source": []
  }
 ],
 "metadata": {
  "kernelspec": {
   "display_name": "Python 3",
   "language": "python",
   "name": "python3"
  },
  "language_info": {
   "codemirror_mode": {
    "name": "ipython",
    "version": 3
   },
   "file_extension": ".py",
   "mimetype": "text/x-python",
   "name": "python",
   "nbconvert_exporter": "python",
   "pygments_lexer": "ipython3",
   "version": "3.9.2"
  }
 },
 "nbformat": 4,
 "nbformat_minor": 5
}

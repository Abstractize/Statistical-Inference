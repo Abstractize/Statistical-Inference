{
 "cells": [
  {
   "cell_type": "code",
   "execution_count": 3,
   "id": "variable-cooking",
   "metadata": {},
   "outputs": [
    {
     "name": "stdout",
     "output_type": "stream",
     "text": [
      "    Numero muestra  Inicial  Primer_cambio  Segundo_cambio\n",
      "0                1       74             73              74\n",
      "1                2       72             89              73\n",
      "2                3       73             73              73\n",
      "3                4       72             77              77\n",
      "4                5       73             81              74\n",
      "..             ...      ...            ...             ...\n",
      "85              86       72             88              72\n",
      "86              87       73             78              79\n",
      "87              88       74             48              78\n",
      "88              89       72             77              72\n",
      "89              90       72             99              75\n",
      "\n",
      "[90 rows x 4 columns]\n"
     ]
    }
   ],
   "source": [
    "import pandas as pd\n",
    "import numpy as np\n",
    "import math\n",
    "\n",
    "df = pd.read_excel('data/Conjunto_datos_tarea2.xlsx')\n",
    "\n",
    "print(df)"
   ]
  },
  {
   "cell_type": "markdown",
   "id": "first-compound",
   "metadata": {},
   "source": [
    "# ¿Poseen las tres configuraciones la misma varianza? ¿En qué afecta al resultado de comparación entre configuraciones posibles diferencias en las varianzas de las distribuciones?  \n",
    "La varianza muestral posee N-1 grados de libertad, por lo que se iguala a 1 el parámetro ddof. En la función para el cálculo de varianzas en numpy el valor por defecto de ddof es 0 (en el método de cálculo de varianzas en pandas, el valor de ddof es 1).  \n",
    "\n",
    "`numpy.var(a, axis=None, dtype=None, out=None, ddof=0, keepdims=<no value>, *, where=<no value>)`  \n",
    "Compute the variance along the specified axis.  \n",
    "\n",
    "Returns the variance of the array elements, a measure of the spread of a distribution. The variance is computed for the flattened array by default, otherwise over the specified axis.  \n",
    "\n",
    "ddofint, optional  \n",
    "“Delta Degrees of Freedom”: the divisor used in the calculation is N - ddof, where N represents the number of elements. By default ddof is zero."
   ]
  },
  {
   "cell_type": "code",
   "execution_count": 4,
   "id": "coated-plymouth",
   "metadata": {},
   "outputs": [
    {
     "name": "stdout",
     "output_type": "stream",
     "text": [
      "Variance in Inicial sampling:  1.0842696629213484\n",
      "Variance in Primer_cambio sampling 86.16179775280898\n",
      "Variance in Segundo_cambio sampling 4.477403245942572\n"
     ]
    }
   ],
   "source": [
    "D1 = df[\"Inicial\"].to_numpy()\n",
    "D2 = df[\"Primer_cambio\"].to_numpy()\n",
    "D3 = df[\"Segundo_cambio\"].to_numpy()\n",
    "\n",
    "Var1 = np.var(D1, ddof = 1)\n",
    "Var2 = np.var(D2, ddof = 1)\n",
    "Var3 = np.var(D3, ddof = 1)\n",
    "\n",
    "print(\"Variance in Inicial sampling: \", Var1)\n",
    "print(\"Variance in Primer_cambio sampling\", Var2)\n",
    "print(\"Variance in Segundo_cambio sampling\", Var3)"
   ]
  },
  {
   "cell_type": "markdown",
   "id": "constant-treatment",
   "metadata": {},
   "source": [
    "Las varianzas de las tres configuraciones no son iguales."
   ]
  },
  {
   "cell_type": "code",
   "execution_count": 6,
   "id": "invisible-suspect",
   "metadata": {},
   "outputs": [
    {
     "name": "stdout",
     "output_type": "stream",
     "text": [
      "Standar error of media by inicial configuration:  0.10976083408541543\n",
      "Standar error of media by Primer_cambio:  0.9784443307437293\n",
      "Standar error of media by Segundo_cambio:  0.22304467031273684\n"
     ]
    }
   ],
   "source": [
    "Es1 = math.sqrt(Var1 / len(D1))\n",
    "Es2 = math.sqrt(Var2 / len(D2))\n",
    "Es3 = math.sqrt(Var3 / len(D3))\n",
    "\n",
    "print(\"Standar error of media by inicial configuration: \", Es1)\n",
    "print(\"Standar error of media by Primer_cambio: \", Es2)\n",
    "print(\"Standar error of media by Segundo_cambio: \", Es3)"
   ]
  },
  {
   "cell_type": "code",
   "execution_count": null,
   "id": "fifth-yahoo",
   "metadata": {},
   "outputs": [],
   "source": []
  }
 ],
 "metadata": {
  "kernelspec": {
   "display_name": "Python 3",
   "language": "python",
   "name": "python3"
  },
  "language_info": {
   "codemirror_mode": {
    "name": "ipython",
    "version": 3
   },
   "file_extension": ".py",
   "mimetype": "text/x-python",
   "name": "python",
   "nbconvert_exporter": "python",
   "pygments_lexer": "ipython3",
   "version": "3.9.2"
  }
 },
 "nbformat": 4,
 "nbformat_minor": 5
}

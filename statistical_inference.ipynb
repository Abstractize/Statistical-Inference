{
 "cells": [
  {
   "cell_type": "code",
   "execution_count": 1,
   "id": "variable-cooking",
   "metadata": {},
   "outputs": [
    {
     "name": "stdout",
     "output_type": "stream",
     "text": [
      "    Numero muestra  Inicial  Primer_cambio  Segundo_cambio\n",
      "0                1       74             73              74\n",
      "1                2       72             89              73\n",
      "2                3       73             73              73\n",
      "3                4       72             77              77\n",
      "4                5       73             81              74\n",
      "..             ...      ...            ...             ...\n",
      "85              86       72             88              72\n",
      "86              87       73             78              79\n",
      "87              88       74             48              78\n",
      "88              89       72             77              72\n",
      "89              90       72             99              75\n",
      "\n",
      "[90 rows x 4 columns]\n"
     ]
    }
   ],
   "source": [
    "import pandas as pd\n",
    "\n",
    "df = pd.read_excel('data/Conjunto_datos_tarea2.xlsx')\n",
    "\n",
    "print(df)"
   ]
  },
  {
   "cell_type": "code",
   "execution_count": 5,
   "id": "local-collar",
   "metadata": {},
   "outputs": [
    {
     "name": "stdout",
     "output_type": "stream",
     "text": [
      "45\n"
     ]
    }
   ],
   "source": []
  },
  {
   "cell_type": "code",
   "execution_count": null,
   "id": "coated-plymouth",
   "metadata": {},
   "outputs": [],
   "source": []
  }
 ],
 "metadata": {
  "kernelspec": {
   "display_name": "Python 3",
   "language": "python",
   "name": "python3"
  },
  "language_info": {
   "codemirror_mode": {
    "name": "ipython",
    "version": 3
   },
   "file_extension": ".py",
   "mimetype": "text/x-python",
   "name": "python",
   "nbconvert_exporter": "python",
   "pygments_lexer": "ipython3",
   "version": "3.9.1"
  }
 },
 "nbformat": 4,
 "nbformat_minor": 5
}
